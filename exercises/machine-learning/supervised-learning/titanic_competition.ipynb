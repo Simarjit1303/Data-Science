{
  "cells": [
    {
      "cell_type": "markdown",
      "metadata": {
        "id": "view-in-github",
        "colab_type": "text"
      },
      "source": [
        "<a href=\"https://colab.research.google.com/github/Simarjit1303/Data-Science/blob/main/exercises/machine-learning/supervised-learning/titanic_competition.ipynb\" target=\"_parent\"><img src=\"https://colab.research.google.com/assets/colab-badge.svg\" alt=\"Open In Colab\"/></a>"
      ]
    },
    {
      "cell_type": "markdown",
      "id": "korean-wednesday",
      "metadata": {
        "id": "korean-wednesday"
      },
      "source": [
        "# Titanic Competition\n",
        "You should build an end-to-end machine learning pipeline to predict survivors of the Titanic disaster and participate in the corresponding Kaggle competition. In particular, you should do the following:\n",
        "- Read the Titanic competition page on [Kaggle](https://www.kaggle.com/competitions/titanic/overview).\n",
        "- Load the `titanic` dataset using [Pandas](https://pandas.pydata.org/docs/reference/api/pandas.read_csv.html). You can find this dataset in the datasets folder.\n",
        "- Split the dataset into training and test sets using [Scikit-Learn](https://scikit-learn.org/stable/modules/generated/sklearn.model_selection.train_test_split.html).\n",
        "- Build an end-to-end machine learning pipeline, including all necessary steps, to have a running solution with some performance.\n",
        "- Collaborate with your groupmates to finalize your pipeline by\n",
        "    - reading the discussion forum to learn from other community members;\n",
        "    - discussing the bottlenecks of your current solution;\n",
        "    - running experiments on your pipeline;\n",
        "    - improving the performance of your pipeline.\n",
        "- Test the best pipeline on the test set and report various [evaluation metrics](https://scikit-learn.org/0.15/modules/model_evaluation.html).  \n",
        "- Present your pipeline.\n",
        "- Submit your predictions to Kaggle."
      ]
    },
    {
      "cell_type": "code",
      "execution_count": 116,
      "id": "infrared-copper",
      "metadata": {
        "id": "infrared-copper"
      },
      "outputs": [],
      "source": [
        "import pandas as pd\n",
        "from sklearn.model_selection import train_test_split, RandomizedSearchCV\n",
        "from sklearn.preprocessing import StandardScaler, OneHotEncoder\n",
        "from sklearn.compose import ColumnTransformer\n",
        "from sklearn.pipeline import Pipeline\n",
        "from sklearn.impute import SimpleImputer, KNNImputer\n",
        "from sklearn.metrics import accuracy_score\n",
        "# classifiers\n",
        "from sklearn.svm import SVC\n",
        "from sklearn.linear_model import LogisticRegression\n",
        "from sklearn.tree import DecisionTreeClassifier\n",
        "from sklearn.ensemble import RandomForestClassifier\n",
        "from sklearn.neighbors import KNeighborsClassifier\n",
        "from sklearn.naive_bayes import GaussianNB\n",
        "# from xgboost import XGBClassifier"
      ]
    },
    {
      "cell_type": "markdown",
      "source": [
        "# Data Exploartion and Preprocessing"
      ],
      "metadata": {
        "id": "RcUcYeGe6HQD"
      },
      "id": "RcUcYeGe6HQD"
    },
    {
      "cell_type": "code",
      "source": [
        "dataset = pd.read_csv('https://raw.githubusercontent.com/m-mahdavi/teaching/refs/heads/main/datasets/titanic.csv')\n",
        "# dataset.head(10)"
      ],
      "metadata": {
        "id": "M-dvGiGk1U0N"
      },
      "id": "M-dvGiGk1U0N",
      "execution_count": 117,
      "outputs": []
    },
    {
      "cell_type": "code",
      "source": [
        "# dataset.describe()"
      ],
      "metadata": {
        "id": "UIYQaKRix63h"
      },
      "id": "UIYQaKRix63h",
      "execution_count": 118,
      "outputs": []
    },
    {
      "cell_type": "code",
      "source": [
        "# checking missing values\n",
        "# dataset.isnull().sum()"
      ],
      "metadata": {
        "id": "w-g2gDl_02Hf"
      },
      "id": "w-g2gDl_02Hf",
      "execution_count": 119,
      "outputs": []
    },
    {
      "cell_type": "code",
      "source": [
        "# # Addind missing values in 'Age' with the median\n",
        "# dataset['Age'].fillna(dataset['Age'].median(), inplace=True)\n",
        "\n",
        "# # Adding missing values in 'Embarked' with the mode\n",
        "# dataset['Embarked'].fillna(dataset['Embarked'].mode()[0], inplace=True)\n",
        "\n",
        "# # Impute missing values in 'Cabin' with 'Unknown'\n",
        "# dataset['Cabin'].fillna('Unknown', inplace=True)\n",
        "\n",
        "# # Verifing if there are any remaining missing values\n",
        "# dataset.isnull().sum()\n"
      ],
      "metadata": {
        "id": "U1nQDeGr4Kae"
      },
      "id": "U1nQDeGr4Kae",
      "execution_count": 120,
      "outputs": []
    },
    {
      "cell_type": "markdown",
      "source": [
        "# Feature Engineering"
      ],
      "metadata": {
        "id": "38MoTLXm6x_c"
      },
      "id": "38MoTLXm6x_c"
    },
    {
      "cell_type": "code",
      "source": [
        "# 1. Title Extraction\n",
        "dataset['Title'] = dataset['Name'].str.extract(' ([A-Za-z]+)\\.', expand=False)\n",
        "dataset['Title'] = dataset['Title'].replace(['Lady', 'Countess', 'Capt', 'Col', 'Don', 'Dr', 'Major', 'Rev', 'Sir', 'Jonkheer', 'Dona'], 'Rare')\n",
        "dataset['Title'] = dataset['Title'].replace('Mlle', 'Miss')\n",
        "dataset['Title'] = dataset['Title'].replace('Ms', 'Miss')\n",
        "dataset['Title'] = dataset['Title'].replace('Mme', 'Mrs')\n",
        "\n",
        "# 2. Creating a new column to put family under one category\n",
        "dataset['FamilySize'] = dataset['SibSp'] + dataset['Parch'] + 1\n",
        "\n",
        "# 3. IsAlone\n",
        "dataset['IsAlone'] = 0\n",
        "dataset.loc[dataset['FamilySize'] == 1, 'IsAlone'] = 1\n",
        "\n",
        "# 4. Grouping passengers into categories\n",
        "dataset['AgeBin'] = pd.cut(dataset['Age'], bins=[0, 12, 20, 60, 100], labels=['Child', 'Young Adult', 'Adult', 'Senior'])\n",
        "dataset['FareBin'] = pd.qcut(dataset['Fare'], 4, labels=['Low', 'Medium', 'High', 'Very High'])\n",
        "dataset['CabinDeck'] = dataset['Cabin'].str[0].fillna('U')\n"
      ],
      "metadata": {
        "id": "kCXXxSWN60aJ"
      },
      "id": "kCXXxSWN60aJ",
      "execution_count": 121,
      "outputs": []
    },
    {
      "cell_type": "markdown",
      "source": [
        "# Feature Scaling"
      ],
      "metadata": {
        "id": "F8DFpZed9ume"
      },
      "id": "F8DFpZed9ume"
    },
    {
      "cell_type": "code",
      "source": [
        "# 1. Defining features and target\n",
        "numerical_features = ['Pclass', 'Age', 'Fare', 'FamilySize', 'IsAlone']\n",
        "categorical_features = ['Sex', 'Embarked', 'Title', 'AgeBin', 'FareBin', 'CabinDeck']\n",
        "target = 'Survived'\n",
        "\n",
        "# 2. Spliiting data into test and train data\n",
        "X = dataset[numerical_features + categorical_features]\n",
        "y = dataset[target]\n",
        "X_train_data, X_test_data, y_train, y_test = train_test_split(X, y, random_state=42)\n",
        "\n",
        "# 4. Create preprocessing pipelines\n",
        "numerical_pipeline = Pipeline([\n",
        "    ('imputer', KNNImputer(n_neighbors=5)),\n",
        "    ('scaler', StandardScaler()),\n",
        "])\n",
        "\n",
        "categorical_pipeline = Pipeline([\n",
        "    ('imputer', SimpleImputer(strategy='most_frequent')),\n",
        "    ('encoder', OneHotEncoder(sparse_output=False, handle_unknown='ignore', drop='first'))\n",
        "])\n",
        "\n",
        "preprocessor = ColumnTransformer(\n",
        "    transformers=[\n",
        "        ('num', numerical_pipeline, numerical_features),\n",
        "        ('cat', categorical_pipeline, categorical_features)\n",
        "    ])\n"
      ],
      "metadata": {
        "id": "iik6SyWM9g1s"
      },
      "id": "iik6SyWM9g1s",
      "execution_count": 122,
      "outputs": []
    },
    {
      "cell_type": "markdown",
      "source": [
        "# Data Modelling"
      ],
      "metadata": {
        "id": "JFXbaLvlASKH"
      },
      "id": "JFXbaLvlASKH"
    },
    {
      "cell_type": "code",
      "source": [
        "# Define models and hyperparameter grids\n",
        "models = {\n",
        "    'Logistic Regression': {\n",
        "        'model': LogisticRegression(random_state=42),\n",
        "        'param_dist': {\n",
        "            'classifier__C': [0.1, 1, 10]\n",
        "        }\n",
        "    },\n",
        "    'Decision Tree': {\n",
        "        'model': DecisionTreeClassifier(random_state=42),\n",
        "        'param_dist': {\n",
        "            'classifier__max_depth': [3, 5, 7],\n",
        "            'classifier__min_samples_split': [2, 5, 10]\n",
        "        }\n",
        "    },\n",
        "    'Random Forest': {\n",
        "        'model': RandomForestClassifier(random_state=42),\n",
        "        'param_dist': {\n",
        "            'classifier__n_estimators': [100, 200, 300],\n",
        "            'classifier__max_depth': [None, 5, 10],\n",
        "            'classifier__min_samples_split': [2, 5, 10],\n",
        "            'classifier__min_samples_leaf': [1, 2, 4],\n",
        "            'classifier__max_features': ['auto','sqrt', 'log2']\n",
        "        }\n",
        "    },\n",
        "    'Support Vector Machine': {\n",
        "        'model': SVC(random_state=42),\n",
        "        'param_dist': {\n",
        "            'classifier__C': [0.1, 1, 10],\n",
        "            'classifier__kernel': ['linear', 'rbf']\n",
        "        }\n",
        "    },\n",
        "    'K-Nearest Neighbors': {\n",
        "        'model': KNeighborsClassifier(),\n",
        "        'param_dist': {\n",
        "            'classifier__n_neighbors': [3, 5, 7],\n",
        "            'classifier__weights': ['uniform', 'distance']\n",
        "        }\n",
        "    },\n",
        "    'Naive Bayes': {\n",
        "        'model': GaussianNB(),\n",
        "        'param_dist': {}\n",
        "    }\n",
        "    # 'XGBoost': {\n",
        "    #     'model': XGBClassifier(random_state=42, use_label_encoder=False, eval_metric='logloss'),\n",
        "    #     'param_dist': {'n_estimators': [100, 200], 'learning_rate': [0.01, 0.1], 'max_depth': [3, 5]}\n",
        "    # }\n",
        "}\n",
        "\n",
        "#  Perform Randomized Search CV for each model\n",
        "best_model = None\n",
        "best_accuracy = 0\n",
        "\n",
        "for model_name, model_data in models.items():\n",
        "\n",
        "    pipeline = Pipeline([\n",
        "        ('preprocessor', preprocessor),\n",
        "        ('classifier', model_data['model'])\n",
        "    ])\n",
        "\n",
        "    random_search = RandomizedSearchCV(\n",
        "        estimator=pipeline,\n",
        "        param_distributions=model_data['param_dist'],\n",
        "        n_iter=50,\n",
        "        scoring='accuracy',\n",
        "        cv=5,\n",
        "        random_state=42,\n",
        "        n_jobs=-1\n",
        "    )\n",
        "    random_search.fit(X_train_data, y_train)\n",
        "\n",
        "    # Evaluate on the test set\n",
        "    y_pred = random_search.predict(X_test_data)\n",
        "    accuracy = accuracy_score(y_test, y_pred)\n",
        "\n",
        "    print(f\"{model_name} Accuracy (Test): {accuracy}\")\n",
        "    print(f\"{model_name} Best Hyperparameters: {random_search.best_params_}\\n\")\n",
        "\n",
        "\n",
        "    if accuracy > best_accuracy:\n",
        "        best_accuracy = accuracy\n",
        "        best_model = random_search.best_estimator_\n",
        "        best_model_name = model_name\n",
        "\n",
        "# Print the best model and its accuracy\n",
        "print(f\"The best model is: {best_model_name} with accuracy: {best_accuracy * 100:.2f}%\")"
      ],
      "metadata": {
        "id": "OrWfb-0hAKEI",
        "outputId": "bed6d358-1cf9-468a-c204-da9d1d4a8841",
        "colab": {
          "base_uri": "https://localhost:8080/"
        }
      },
      "id": "OrWfb-0hAKEI",
      "execution_count": 123,
      "outputs": [
        {
          "output_type": "stream",
          "name": "stderr",
          "text": [
            "/usr/local/lib/python3.11/dist-packages/sklearn/model_selection/_search.py:317: UserWarning: The total space of parameters 3 is smaller than n_iter=50. Running 3 iterations. For exhaustive searches, use GridSearchCV.\n",
            "  warnings.warn(\n"
          ]
        },
        {
          "output_type": "stream",
          "name": "stdout",
          "text": [
            "Logistic Regression Accuracy (Test): 0.8116591928251121\n",
            "Logistic Regression Best Hyperparameters: {'classifier__C': 1}\n",
            "\n"
          ]
        },
        {
          "output_type": "stream",
          "name": "stderr",
          "text": [
            "/usr/local/lib/python3.11/dist-packages/sklearn/model_selection/_search.py:317: UserWarning: The total space of parameters 9 is smaller than n_iter=50. Running 9 iterations. For exhaustive searches, use GridSearchCV.\n",
            "  warnings.warn(\n"
          ]
        },
        {
          "output_type": "stream",
          "name": "stdout",
          "text": [
            "Decision Tree Accuracy (Test): 0.820627802690583\n",
            "Decision Tree Best Hyperparameters: {'classifier__min_samples_split': 2, 'classifier__max_depth': 3}\n",
            "\n"
          ]
        },
        {
          "output_type": "stream",
          "name": "stderr",
          "text": [
            "/usr/local/lib/python3.11/dist-packages/sklearn/model_selection/_validation.py:528: FitFailedWarning: \n",
            "90 fits failed out of a total of 250.\n",
            "The score on these train-test partitions for these parameters will be set to nan.\n",
            "If these failures are not expected, you can try to debug them by setting error_score='raise'.\n",
            "\n",
            "Below are more details about the failures:\n",
            "--------------------------------------------------------------------------------\n",
            "90 fits failed with the following error:\n",
            "Traceback (most recent call last):\n",
            "  File \"/usr/local/lib/python3.11/dist-packages/sklearn/model_selection/_validation.py\", line 866, in _fit_and_score\n",
            "    estimator.fit(X_train, y_train, **fit_params)\n",
            "  File \"/usr/local/lib/python3.11/dist-packages/sklearn/base.py\", line 1389, in wrapper\n",
            "    return fit_method(estimator, *args, **kwargs)\n",
            "           ^^^^^^^^^^^^^^^^^^^^^^^^^^^^^^^^^^^^^^\n",
            "  File \"/usr/local/lib/python3.11/dist-packages/sklearn/pipeline.py\", line 662, in fit\n",
            "    self._final_estimator.fit(Xt, y, **last_step_params[\"fit\"])\n",
            "  File \"/usr/local/lib/python3.11/dist-packages/sklearn/base.py\", line 1382, in wrapper\n",
            "    estimator._validate_params()\n",
            "  File \"/usr/local/lib/python3.11/dist-packages/sklearn/base.py\", line 436, in _validate_params\n",
            "    validate_parameter_constraints(\n",
            "  File \"/usr/local/lib/python3.11/dist-packages/sklearn/utils/_param_validation.py\", line 98, in validate_parameter_constraints\n",
            "    raise InvalidParameterError(\n",
            "sklearn.utils._param_validation.InvalidParameterError: The 'max_features' parameter of RandomForestClassifier must be an int in the range [1, inf), a float in the range (0.0, 1.0], a str among {'log2', 'sqrt'} or None. Got 'auto' instead.\n",
            "\n",
            "  warnings.warn(some_fits_failed_message, FitFailedWarning)\n",
            "/usr/local/lib/python3.11/dist-packages/sklearn/model_selection/_search.py:1108: UserWarning: One or more of the test scores are non-finite: [       nan        nan 0.82935697 0.83386825 0.83686455        nan\n",
            " 0.84433846 0.82935697        nan 0.83235327 0.83386825 0.84135338\n",
            " 0.83236449        nan        nan 0.8293682  0.83686455        nan\n",
            " 0.82939064 0.83086073 0.83239816        nan 0.83236449 0.8308944\n",
            "        nan        nan        nan 0.83387947        nan 0.83236449\n",
            " 0.83385703 0.83387947        nan 0.83537201        nan 0.82937942\n",
            "        nan 0.83387947 0.83086073 0.84285714 0.83984962 0.83236449\n",
            " 0.83384581        nan 0.83237572 0.83237572        nan 0.83087196\n",
            "        nan 0.83384581]\n",
            "  warnings.warn(\n"
          ]
        },
        {
          "output_type": "stream",
          "name": "stdout",
          "text": [
            "Random Forest Accuracy (Test): 0.820627802690583\n",
            "Random Forest Best Hyperparameters: {'classifier__n_estimators': 300, 'classifier__min_samples_split': 10, 'classifier__min_samples_leaf': 4, 'classifier__max_features': 'sqrt', 'classifier__max_depth': 10}\n",
            "\n"
          ]
        },
        {
          "output_type": "stream",
          "name": "stderr",
          "text": [
            "/usr/local/lib/python3.11/dist-packages/sklearn/model_selection/_search.py:317: UserWarning: The total space of parameters 6 is smaller than n_iter=50. Running 6 iterations. For exhaustive searches, use GridSearchCV.\n",
            "  warnings.warn(\n"
          ]
        },
        {
          "output_type": "stream",
          "name": "stdout",
          "text": [
            "Support Vector Machine Accuracy (Test): 0.8161434977578476\n",
            "Support Vector Machine Best Hyperparameters: {'classifier__kernel': 'rbf', 'classifier__C': 1}\n",
            "\n"
          ]
        },
        {
          "output_type": "stream",
          "name": "stderr",
          "text": [
            "/usr/local/lib/python3.11/dist-packages/sklearn/model_selection/_search.py:317: UserWarning: The total space of parameters 6 is smaller than n_iter=50. Running 6 iterations. For exhaustive searches, use GridSearchCV.\n",
            "  warnings.warn(\n"
          ]
        },
        {
          "output_type": "stream",
          "name": "stdout",
          "text": [
            "K-Nearest Neighbors Accuracy (Test): 0.7982062780269058\n",
            "K-Nearest Neighbors Best Hyperparameters: {'classifier__weights': 'uniform', 'classifier__n_neighbors': 5}\n",
            "\n"
          ]
        },
        {
          "output_type": "stream",
          "name": "stderr",
          "text": [
            "/usr/local/lib/python3.11/dist-packages/sklearn/model_selection/_search.py:317: UserWarning: The total space of parameters 1 is smaller than n_iter=50. Running 1 iterations. For exhaustive searches, use GridSearchCV.\n",
            "  warnings.warn(\n"
          ]
        },
        {
          "output_type": "stream",
          "name": "stdout",
          "text": [
            "Naive Bayes Accuracy (Test): 0.7533632286995515\n",
            "Naive Bayes Best Hyperparameters: {}\n",
            "\n",
            "The best model is: Decision Tree with accuracy: 82.06%\n"
          ]
        }
      ]
    }
  ],
  "metadata": {
    "kernelspec": {
      "display_name": "Python 3",
      "language": "python",
      "name": "python3"
    },
    "language_info": {
      "codemirror_mode": {
        "name": "ipython",
        "version": 3
      },
      "file_extension": ".py",
      "mimetype": "text/x-python",
      "name": "python",
      "nbconvert_exporter": "python",
      "pygments_lexer": "ipython3",
      "version": "3.8.5"
    },
    "colab": {
      "provenance": [],
      "include_colab_link": true
    }
  },
  "nbformat": 4,
  "nbformat_minor": 5
}